{
 "cells": [
  {
   "cell_type": "markdown",
   "id": "c946e7d1-6351-44d8-a27a-1fc7ae3ec112",
   "metadata": {},
   "source": [
    "# DataFrame Part 3"
   ]
  },
  {
   "cell_type": "code",
   "execution_count": 1,
   "id": "85fc597d-4f40-4945-9126-6440e38c5cba",
   "metadata": {
    "tags": []
   },
   "outputs": [],
   "source": [
    "import numpy as np\n",
    "import pandas as pd\n",
    "from numpy.random import randn"
   ]
  },
  {
   "cell_type": "code",
   "execution_count": null,
   "id": "2871abad-a065-4233-bf2c-b2005107bae2",
   "metadata": {},
   "outputs": [],
   "source": []
  }
 ],
 "metadata": {
  "kernelspec": {
   "display_name": "Python 3 (ipykernel)",
   "language": "python",
   "name": "python3"
  },
  "language_info": {
   "codemirror_mode": {
    "name": "ipython",
    "version": 3
   },
   "file_extension": ".py",
   "mimetype": "text/x-python",
   "name": "python",
   "nbconvert_exporter": "python",
   "pygments_lexer": "ipython3",
   "version": "3.10.4"
  }
 },
 "nbformat": 4,
 "nbformat_minor": 5
}
